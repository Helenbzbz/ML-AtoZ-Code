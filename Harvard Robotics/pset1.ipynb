{
  "cells": [
    {
      "attachments": {},
      "cell_type": "markdown",
      "metadata": {
        "colab_type": "text",
        "id": "view-in-github"
      },
      "source": [
        "<a href=\"https://colab.research.google.com/github/Helenbzbz/ML-AtoZ-Code/blob/main/pset1.ipynb\" target=\"_parent\"><img src=\"https://colab.research.google.com/assets/colab-badge.svg\" alt=\"Open In Colab\"/></a>"
      ]
    },
    {
      "attachments": {},
      "cell_type": "markdown",
      "metadata": {
        "id": "a7xOiLmw4EdW"
      },
      "source": [
        "#**<font color='red'>MAKE A COPY TO YOUR GOOGLE DRIVE </font>**\n",
        "Please make a copy, by navigating to **File > Save a copy in Drive**. This is important as you may lose your progress otherwise.\n",
        "\n",
        "Once completed, please download as a Python (.py) file and submit on Gradescope (navigate to **File > Download > Download .py**). The file name should be **pset1.py**.\n",
        "\n",
        "\n",
        "Make sure as you are working through the notebook, you run all the cells as you go along (otherwise your code may produce errors or not work properly). Additionally, you're code cells may de-load if the session has been running for too long; please periodically restart your runtime / run all your cells.\n",
        "\n",
        "In completing the assignment, please complete the functions / classes / variables. Do not change the names of existing functions / classes / variables and their signature / input (or re-assign them) as this is what gradescope parses for. Lastly, do not import additional libraries beyond the ones provided (as gradescope will reject them)."
      ]
    },
    {
      "attachments": {},
      "cell_type": "markdown",
      "metadata": {
        "id": "uw_cVnNRtH-8"
      },
      "source": [
        "# Problem Set 1 (75 pts)\n"
      ]
    },
    {
      "attachments": {},
      "cell_type": "markdown",
      "metadata": {
        "id": "Yjam-9frtR2T"
      },
      "source": [
        "In this problem set, you'll explore Jupyter Notebook and review Python, Math, and Linear Algebra."
      ]
    },
    {
      "cell_type": "code",
      "execution_count": 1,
      "metadata": {
        "id": "nr_DK4nxvAaR"
      },
      "outputs": [],
      "source": [
        "### DO NOT CHANGE ###\n",
        "# importing the libraries (do not remove or add libraries)\n",
        "from typing import List, Set, Dict, Tuple, Optional"
      ]
    },
    {
      "attachments": {},
      "cell_type": "markdown",
      "metadata": {
        "id": "DbKs1YEltXCu"
      },
      "source": [
        "## Intro Survey (21 pts)"
      ]
    },
    {
      "attachments": {},
      "cell_type": "markdown",
      "metadata": {
        "id": "PtJzqw0LtYpm"
      },
      "source": [
        "In this section, you'll fill out a course survey. You'll be graded for completion - the only requirement is satisfying the type / format / specifications for your answers."
      ]
    },
    {
      "cell_type": "code",
      "execution_count": null,
      "metadata": {
        "cellView": "form",
        "id": "V1VJ7_ABtTAS"
      },
      "outputs": [],
      "source": [
        "#@title Full Name\n",
        "\n",
        "#@markdown `full_name` (1 pt): What is your full name (as it appears on your official records on your transcript / student profile / canvas)?\n",
        "full_name = \"Jielan Zheng\" #@param {type:\"string\"}"
      ]
    },
    {
      "cell_type": "code",
      "execution_count": null,
      "metadata": {
        "cellView": "form",
        "id": "ve4qWsjROMbg"
      },
      "outputs": [],
      "source": [
        "#@title Preferred Name\n",
        "\n",
        "#@markdown `preferred_name` (1 pt): What is your preferred name (i.e., what would you prefer to be called)? If it's the same as your full name, please enter your full name.\n",
        "preferred_name = \"Helen Zheng\" #@param {type:\"string\"}"
      ]
    },
    {
      "cell_type": "code",
      "execution_count": null,
      "metadata": {
        "cellView": "form",
        "id": "dxKKGdDkOZRl"
      },
      "outputs": [],
      "source": [
        "#@title Name Pronunciation\n",
        "\n",
        "#@markdown `name_pronunciation` (1 pt): How should one pronounce your preferred name? Please provide phonetics or other relevant information to help someone properly pronounce your first and last name.\n",
        "name_pronunciation = \"Helen Zheng[ ch uh ng ]\" #@param {type:\"string\"}"
      ]
    },
    {
      "cell_type": "code",
      "execution_count": null,
      "metadata": {
        "cellView": "form",
        "id": "JEWSobhQOnuR"
      },
      "outputs": [],
      "source": [
        "#@title Harvard University ID (HUID)\n",
        "\n",
        "#@markdown `HUID` (1 pt): What is your HUID? Every student has an HUID (otherwise, they aren't able to access / take Harvard classes). If you don't know your HUID, please email Harvard Summer support email (inquiry@summer.harvard.edu ).\n",
        "HUID = \"71661458\" #@param {type:\"string\"}"
      ]
    },
    {
      "cell_type": "code",
      "execution_count": null,
      "metadata": {
        "cellView": "form",
        "id": "744CIagAO2kb"
      },
      "outputs": [],
      "source": [
        "#@title Graduate Version\n",
        "#@markdown `graduate_version` (1 pt): Set the `graduate_version` to `True` if you are taking the graduate version of the course. Otherwise, set it to `False`.\n",
        "graduate_version = \"True\" #@param [\"\", \"True\", \"False\"]\n"
      ]
    },
    {
      "cell_type": "code",
      "execution_count": null,
      "metadata": {
        "cellView": "form",
        "id": "yfSrGUgfPHaS"
      },
      "outputs": [],
      "source": [
        "#@title Harvard Email\n",
        "#@markdown `harvard_email` (1 pt): What is your Harvard email? If you don't have one, please update the `harvard_email` variable to `not applicable`.\n",
        "harvard_email = \"not applicable\" #@param {type:\"string\"}"
      ]
    },
    {
      "cell_type": "code",
      "execution_count": null,
      "metadata": {
        "cellView": "form",
        "id": "T7Tfye2wPUbO"
      },
      "outputs": [],
      "source": [
        "#@title Personal Email\n",
        "#@markdown `personal_email` (1 pt): What is your personal email? This should be the best email to reach out to after the course and should not be a Harvard or `.edu` email.\n",
        "personal_email = \"helenbzbz@gmail.com\" #@param {type:\"string\"}"
      ]
    },
    {
      "cell_type": "code",
      "execution_count": null,
      "metadata": {
        "cellView": "form",
        "id": "5EfAx1nYPiY1"
      },
      "outputs": [],
      "source": [
        "#@title LinkedIn\n",
        "#@markdown `linkedin` (1 pt): What is your LinkedIn? Please provide a URL link. If you do not have one, please update `linkedin` to `not applicable`.\n",
        "linkedin = \"https://www.linkedin.com/in/jielanzheng/\" #@param {type:\"string\"}"
      ]
    },
    {
      "cell_type": "code",
      "execution_count": null,
      "metadata": {
        "cellView": "form",
        "id": "UKbP9BBdPxJr"
      },
      "outputs": [],
      "source": [
        "#@title Previous Classes\n",
        "#@markdown `previous_classes` (1 pt): List your previous Harvard classes with the course code and title separated by commas. For example, `previous_classes: CS50: Intro to Computer Science, Math21A: Multivariable Calculus`. If you haven't taken a previous Harvard course, please update to `None`.\n",
        "previous_classes = \"None\" #@param {type:\"string\"}"
      ]
    },
    {
      "cell_type": "code",
      "execution_count": null,
      "metadata": {
        "cellView": "form",
        "id": "jT7Xoz-OQfx_"
      },
      "outputs": [],
      "source": [
        "#@title Highest Education\n",
        "#@markdown `highest_education` (1 pt): What is your highest education. Select the option that best applies.\n",
        "highest_education = \"Currently in Master's/Professional Degree/PhD program\" #@param [\"\", \"In high school\", \"Completed high school\", \"In college\", \"Completed Bachelor's\", \"Completed Master's\", \"Completed Professional Degree (MD, MBA, EdD, JD, etc.)\", \"Completed PhD\", \"Currently in Master's/Professional Degree/PhD program\"]"
      ]
    },
    {
      "cell_type": "code",
      "execution_count": null,
      "metadata": {
        "cellView": "form",
        "id": "BAiE2WEhRBk3"
      },
      "outputs": [],
      "source": [
        "#@title Current Occupation\n",
        "#@markdown `current_occupation` (1 pt): What is your current occupation?\n",
        "current_occupation = \"master program student\" #@param {type:\"string\"}"
      ]
    },
    {
      "cell_type": "code",
      "execution_count": null,
      "metadata": {
        "cellView": "form",
        "id": "DAd9lN9PRLta"
      },
      "outputs": [],
      "source": [
        "#@title Near Harvard\n",
        "#@markdown `near_harvard` (1 pt): Are you near Harvard's campus / in Cambridge or Boston area? If yes, set to `True`. If not, set to `False`.\n",
        "near_harvard = \"False\" #@param [\"\", \"True\", \"False\"]"
      ]
    },
    {
      "cell_type": "code",
      "execution_count": null,
      "metadata": {
        "cellView": "form",
        "id": "QqDudtpPRVwn"
      },
      "outputs": [],
      "source": [
        "#@title Based in the USA\n",
        "#@markdown `based_in_USA` (1 pt): Are you based in the USA?\n",
        "based_in_USA = \"True\" #@param [\"\", \"True\", \"False\"]"
      ]
    },
    {
      "cell_type": "code",
      "execution_count": null,
      "metadata": {
        "cellView": "form",
        "id": "W2UV9uVGRd14"
      },
      "outputs": [],
      "source": [
        "#@title Current City\n",
        "#@markdown `current_city` (1 pt): What is your current city and state if in the US. If not in the US, what is your current city and home country?\n",
        "current_city = \"New Haven, CT; Raleigh, NC\" #@param {type:\"string\"}"
      ]
    },
    {
      "cell_type": "code",
      "execution_count": null,
      "metadata": {
        "cellView": "form",
        "id": "W4Tm38HaRl-g"
      },
      "outputs": [],
      "source": [
        "#@title GMT Timezone\n",
        "#@markdown `timezone` (1 pt): What timezone are you in? Please refer to this [table](http://www.healthstream.com/hlchelp/Administrator/Classes/HLC_Time_Zone_Abbreviations.htm) on different timezone windows.\n",
        "timezone = \"Eastern Standard Time\" #@param [\"\", \"Eastern Standard Time\", \"Central Standard Time\", \"Mountain Standard Time\", \"Pacific Standard Time\", \"Alaskan Standard Time\", \"Hawaiian Standard Time\", \"Mountain Standard Time\", \"Atlantic Standard Time\", \"Morocco Standard Time\", \"UTC\", \"GMT Standard Time\", \"Greenwich Standard Time\", \"West Europe Standard Time\", \"Central Europe Standard Time\", \"Romance Standard Time\", \"Central European Standard Time\", \"W. Central Africa Standard Time\", \"Jordan Standard Time\", \"GTB Standard Time\", \"Middle East Standard Time\", \"Egypt Standard Time\", \"Syria Standard Time\", \"South Africa Standard Time\", \"FLE Standard Time\", \"Israel Standard Time\", \"E. Europe Standard Time\", \"Namibia Standard Time\", \"Arabic Standard Time\", \"Arab Standard Time\", \"Russian Standard Time\", \"E. Africa Standard Time\", \"Iran Standard Time\", \"Arabian Standard Time\", \"Azerbaijan Standard Time\", \"Mauritius Standard Time\", \"Georgian Standard Time\", \"Caucasus Standard Time\", \"Afghanistan Standard Time\", \"Ekaterinburg Standard Time\", \"Pakistan Standard Time\", \"West Asia Standard Time\", \"India Standard Time\", \"Sri Lanka Standard Time\", \"Nepal Standard Time\", \"Central Asia Standard Time\", \"Bangladesh Standard Time\", \"N. Central Asia Standard Time\", \"Myanmar Standard Time\", \"SE Asia Standard Time\", \"North Asia Standard Time\", \"China Standard Time\", \"North Asia East Standard Time\", \"Singapore Standard Time\", \"W. Australia Standard Time\", \"Taipei Standard Time\", \"Ulaanbaatar Standard Time\", \"Tokyo Standard Time\", \"Korea Standard Time\", \"Yakutsk Standard Time\", \"Cen. Australia Standard Time\", \"AUS Central Standard Time\", \"E. Australia Standard Time\", \"AUS Eastern Standard Time\", \"West Pacific Standard Time\", \"Tasmania Standard Time\", \"Vladivostok Standard Time\", \"Central Pacific Standard Time\", \"New Zealand Standard Time\", \"UTC+12\", \"Fiji Standard Time\", \"Kamchatka Standard Time\", \"Tonga Standard Time\", \"Azores Standard Time\", \"Cape Verde Standard Time\", \"E. South America Standard Time\", \"Argentina Standard Time\", \"SA Eastern Standard Time\", \"Greenland Standard Time\", \"Montevideo Standard Time\", \"Newfoundland Standard Time\", \"Paraguay Standard Time\", \"Central Brazilian Standard Time\", \"SA Western Standard Time\", \"Pacific SA Standard Time\", \"Venezuela Standard Time\", \"SA Pacific Standard Time\", \"US Eastern Standard Time\", \"Central America Standard Time\", \"Central Standard Time (Mexico)\", \"Canada Central Standard Time\", \"Mountain Standard Time (Mexico)\", \"Pacific Standard Time (Mexico)\", \"Samoa Standard Time\", \"Dateline Standard Time\"]\n"
      ]
    },
    {
      "cell_type": "code",
      "execution_count": null,
      "metadata": {
        "cellView": "form",
        "id": "iYgcxnuzUEcP"
      },
      "outputs": [],
      "source": [
        "#@title Hardware Experience\n",
        "#@markdown `hardware_experience` (1 pt): Please describe any previous experience with hardware. This can be classes, personal projects, work, etc.\n",
        "hardware_experience = \":( Nope, except I\\'m a huge drone fan and have taken more than 15 GB photos and videos with drone.\" #@param {type:\"string\"}"
      ]
    },
    {
      "cell_type": "code",
      "execution_count": null,
      "metadata": {
        "cellView": "form",
        "id": "dnCEh-JUUOTw"
      },
      "outputs": [],
      "source": [
        "#@title Software Experience\n",
        "#@markdown `software_experience` (1 pt): Please describe any previous experience with programming and all programming languages you have experience with.\n",
        "software_experience = \"I took Python and Introduction to Machine Learning (R) in my undergraduate school. I\\'m right now self-learning more advanced full-stack Python coding, Deep Learning, and Reinforcement Learning. I have interned at Uber before, working on Data Engineering and Data Analytics Project.\" #@param {type:\"string\"}"
      ]
    },
    {
      "cell_type": "code",
      "execution_count": null,
      "metadata": {
        "cellView": "form",
        "id": "cfABp8rOUXzv"
      },
      "outputs": [],
      "source": [
        "#@title Experience\n",
        "#@markdown `experience` (1 pt): Check all the boxes you are comfortable or had previous experience with topic. Note: not all these topics are required for this course - this question is to gauge students' background.\n",
        "algebra = True #@param {type:\"boolean\"}\n",
        "geometry = True #@param {type:\"boolean\"}\n",
        "trigonometry = False #@param {type:\"boolean\"}\n",
        "calculus = True #@param {type:\"boolean\"}\n",
        "multi-variable calculus = True #@param {type:\"boolean\"}\n",
        "linear algebra = True #@param {type:\"boolean\"}\n",
        "vector calculus = True #@param {type:\"boolean\"}\n",
        "advanced math (real analysis, number theory, etc.) = False #@param {type:\"boolean\"}\n",
        "programming = True #@param {type:\"boolean\"}\n",
        "python = True #@param {type:\"boolean\"}\n",
        "java = False #@param {type:\"boolean\"}\n",
        "C = False #@param {type:\"boolean\"}\n",
        "C++ = False #@param {type:\"boolean\"}\n",
        "other programming langauges = True #@param {type:\"boolean\"}\n",
        "data structures and algorithms = True #@param {type:\"boolean\"}\n",
        "arduino = False #@param {type:\"boolean\"}\n",
        "raspberry pi = False #@param {type:\"boolean\"}\n",
        "robotics = False #@param {type:\"boolean\"}\n",
        "probability = True #@param {type:\"boolean\"}\n",
        "statistics = True #@param {type:\"boolean\"}\n",
        "statistical analysis / modelling = False #@param {type:\"boolean\"}\n",
        "machine learning = True #@param {type:\"boolean\"}\n",
        "natural language processing = True #@param {type:\"boolean\"}\n",
        "computer vision = True #@param {type:\"boolean\"}\n",
        "wearable devices = False #@param {type:\"boolean\"}\n",
        "deep learning = True #@param {type:\"boolean\"}\n",
        "reinforcement learning = True #@param {type:\"boolean\"}"
      ]
    },
    {
      "cell_type": "code",
      "execution_count": null,
      "metadata": {
        "cellView": "form",
        "id": "ntg416X6VDSt"
      },
      "outputs": [],
      "source": [
        "#@title Why this Course\n",
        "#@markdown `why_this_course` (1 pt): Why are you taking this course?\n",
        "why_this_course = \"I came from a business analytics background and will attend a data science master program this fall. I really like drones and automous devices and want to work as machine learning engineer after completing my master degree. I think this course is a great way to further explore my area of interests.\" #@param {type:\"string\"}"
      ]
    },
    {
      "cell_type": "code",
      "execution_count": null,
      "metadata": {
        "cellView": "form",
        "id": "0S6Sp3y3VeH-"
      },
      "outputs": [],
      "source": [
        "#@title Interest in Hardware\n",
        "#@markdown `interested_in_hardware` (1 pt): There is no hardware requirement for this course, but hardware can be explored in final project. Are you interested in pursuing a hardware based final project (set to `True` if yes, otherwise `False`)? This will help for project matching (students who have an interest in hardware may be paired together). Note: hardware is not subsidized by the course.\n",
        "interested_in_hardware = \"True\" #@param [\"\", \"True\", \"False\"]"
      ]
    },
    {
      "cell_type": "code",
      "execution_count": null,
      "metadata": {
        "cellView": "form",
        "id": "zCyaNCdaVpn8"
      },
      "outputs": [],
      "source": [
        "#@title Circumstances\n",
        "#@markdown `circumstances` (1 pt): Are there any extenuating circumstances that might affect your performance in the class (please share as much as you are comfortable). If you believe it will be an outstanding issue, it is recommended to reach out to the Accessibility Office. If there is nothing to share, update to `not applicable`.\n",
        "circumstances = \"I will intern full-time during the summer so this might affect my availability to meet with my project team :(\" #@param {type:\"string\"}"
      ]
    },
    {
      "cell_type": "code",
      "execution_count": null,
      "metadata": {
        "cellView": "form",
        "id": "x1RA1jZ9Vykk"
      },
      "outputs": [],
      "source": [
        "#@title Other Comments\n",
        "#@markdown `other_comments` (0 pts): If there's anything else you'd like to share, please share it here!\n",
        "other_comments = \"I am sooo excited to take this course!\" #@param {type:\"string\"}"
      ]
    },
    {
      "attachments": {},
      "cell_type": "markdown",
      "metadata": {
        "id": "hKTLIKovMlA7"
      },
      "source": [
        "## Course Check (5 pts)"
      ]
    },
    {
      "attachments": {},
      "cell_type": "markdown",
      "metadata": {
        "id": "prd9qyoiMpsH"
      },
      "source": [
        "In this section, you'll complete some exercises to ensure that you are set up with the course tools (Ed Discussion, GradeScope, and Medium). Each question is worth 1 pt."
      ]
    },
    {
      "attachments": {},
      "cell_type": "markdown",
      "metadata": {
        "id": "pPl6JwdjNEkc"
      },
      "source": [
        "### Ed Discussion"
      ]
    },
    {
      "attachments": {},
      "cell_type": "markdown",
      "metadata": {
        "id": "ESMCGRRONHxy"
      },
      "source": [
        "The course uses Ed Discussion as a platform for sharing ideas and questions. For all class or content related concerns, they should be asked on Ed Discussion (i.e., questions about lecture, assignments, projects, etc.). The reason for using Ed Discussion board is that it features organizational tools, has robust formatting options (i.e., can handle math symbols, code snippets, and images), and cultivates a sense of community.\n",
        "\n",
        "To get up to speed with Ed Discussion and create a class community, please make an Ed Discussion post titled `<YOUR NAME> Introduction` (e.g., for example, if your name is John Smith, your Ed Discussion post should be titled `John Smith Introduction`). You can find the Ed Discussion platform from canvas on the sidebar. Please use the `Community` tag for your post.\n",
        "\n",
        "In your post, please provide some information about yourself for others to know. This can include:\n",
        "\n",
        "\n",
        "*   Where you are from?\n",
        "*   What you do currently?\n",
        "*   What your interests are?\n",
        "*   Motivation for the course?\n",
        "*   If you already have ideas, what you might want to do for the final project?\n",
        "*   Any fun facts or hobbies.\n",
        "\n",
        "After you are done with your post, please update the following variable to `True`"
      ]
    },
    {
      "cell_type": "code",
      "execution_count": null,
      "metadata": {
        "cellView": "form",
        "id": "cHKsyOkPV-dx"
      },
      "outputs": [],
      "source": [
        "#@title Explored Ed Discussion\n",
        "explored_ed_discussion = \"\" #@param [\"\", \"True\", \"False\"]"
      ]
    },
    {
      "attachments": {},
      "cell_type": "markdown",
      "metadata": {
        "id": "wS6F-frUOk4m"
      },
      "source": [
        "### GradeScope"
      ]
    },
    {
      "attachments": {},
      "cell_type": "markdown",
      "metadata": {
        "id": "54sbe5cjOnQu"
      },
      "source": [
        "GradeScope is the platform for submitting your problem sets and exams. The reason for using GradeScope is that it is equipped with diagnostic tools. From a student perspective, you can submit your assignments as many times as you like before the due date and get some feedback from gradescope. Some examples of feedback might be that your file doesn't work, your code has some error, and/or you're failing a specific part. Based on the feedback, you can edit your submission and keep re-submitting until the deadline.\n",
        "\n",
        "**Note**: when it comes to gradescope, the diagnostic tools are meant to help and don't necessarily signal correctness or your final grade. All submissions are reviewed by course staff for correctness after the submission deadline and your final grade will be viewable after the assignments have been graded.\n",
        "\n",
        "Please check and see if you can access and submit on to gradescope. If you can, please update the variable to `True`. If not, please reach out to course staff via Ed Discussion immediately to resolve the issue. Once the issue is resolved, set the variable to `True`."
      ]
    },
    {
      "cell_type": "code",
      "execution_count": null,
      "metadata": {
        "cellView": "form",
        "id": "TGRZoPjTOtS9"
      },
      "outputs": [],
      "source": [
        "#@title Explored Gradescope\n",
        "explored_gradescope = \"\" #@param [\"\", \"True\", \"False\"]"
      ]
    },
    {
      "attachments": {},
      "cell_type": "markdown",
      "metadata": {
        "id": "xc0mK8c3Os5o"
      },
      "source": [
        "### Medium"
      ]
    },
    {
      "attachments": {},
      "cell_type": "markdown",
      "metadata": {
        "id": "vjbDdrv6PZcH"
      },
      "source": [
        "Medium is the platform for course participation. Articles will be read on Medium and participations will involve answering prompts as comments on the article.\n",
        "\n",
        "In order to complete the participation assignments:\n",
        "\n",
        "1. You will need to make a [Medium](https://medium.com/) account (feel free to use any email).\n",
        "2. After you make an account, please update the variables below so your account can be tracked.\n",
        "    * `medium_email`: the email associated with your Medium account\n",
        "    * `medium_display_name`: the display name associated with your Medium account\n",
        "    * `medium_username`: the username associated with your Medium account\n",
        "\n",
        "Check out this [instruction PDF](https://drive.google.com/file/d/19saxEQ7HAQ8yc_TOis2nSgmUWJIfkhh-/view?usp=share_link) for how to find your username and display name. Note: please don't change this information, otherwise course staff may not be able to identify your submission."
      ]
    },
    {
      "cell_type": "code",
      "execution_count": null,
      "metadata": {
        "cellView": "form",
        "id": "v2eZeimtX-nj"
      },
      "outputs": [],
      "source": [
        "#@title Medium Information\n",
        "medium_email = \"\" #@param {type:\"string\"}\n",
        "medium_display_name = \"\" #@param {type:\"string\"}\n",
        "medium_username = \"\" #@param {type:\"string\"}"
      ]
    },
    {
      "attachments": {},
      "cell_type": "markdown",
      "metadata": {
        "id": "D8qaSi882Kce"
      },
      "source": [
        "## Python Exercises (20 pts)"
      ]
    },
    {
      "attachments": {},
      "cell_type": "markdown",
      "metadata": {
        "id": "FEcmrEHX2OuT"
      },
      "source": [
        "In this section, you will complete several python exercises.\n",
        "\n",
        "In this course, most problem set assignments will be a variable assignment (like in the intro survey) or wrapped in a python function that expects a *certain input* and then returns a *certain output* (like in the below problems).\n",
        "\n",
        "To avoid any confusion and enable efficient grading, the function name with the inputs will be given as part of the distribution code (i.e., initial scaffolding code for you to fill out). Please **do not** change the function name as it will cause errors with gradescope. Each function will have `pass` which should be removed/replaced once the function is completed.\n",
        "\n",
        "The functions given as part of the distribution code will have [type hinting](https://realpython.com/lessons/type-hinting/). Type hinting helps programmers know exactly what data-types the inputs and outputs have (helping to reduce ambiguity). To implement robust type hinting, the [typing](https://mypy.readthedocs.io/en/stable/cheat_sheet_py3.html) library will be used.\n",
        "\n",
        "Lastly, in order to get points, please make sure the values are **returned**. Printing the values are not sufficient for credit (however you may use it to debug). For more on `print` vs `return`, please read [this](https://pythonprinciples.com/blog/print-vs-return/).\n",
        "\n",
        "Additionally, it maybe helpful to review Python built-in datatypes and functions. Here are links to relevant documentation/tutorals on Python's built-in datatypes and functions:\n",
        "\n",
        "- [Python Numbers\n",
        "](https://www.programiz.com/python-programming/numbers)\n",
        "\n",
        "- [Python List](https://www.programiz.com/python-programming/list)\n",
        "\n",
        "- [Python Tuple](https://www.programiz.com/python-programming/tuple)\n",
        "\n",
        "- [Python String](https://www.programiz.com/python-programming/string)\n",
        "\n",
        "- [Python Set](https://www.programiz.com/python-programming/set)\n",
        "\n",
        "- [Python Dictionary](https://www.programiz.com/python-programming/dictionary)\n",
        "\n",
        "- [Python Function](https://www.programiz.com/python-programming/function)"
      ]
    },
    {
      "attachments": {},
      "cell_type": "markdown",
      "metadata": {
        "id": "zLnfB-ztiwqS"
      },
      "source": [
        "### Functions (8 pts)"
      ]
    },
    {
      "attachments": {},
      "cell_type": "markdown",
      "metadata": {
        "id": "ZAdPL6ZXqncH"
      },
      "source": [
        "`signal_threshold` (1 pt): This function returns `True` if the value of `signal` is greater than 75, else it returns `False`."
      ]
    },
    {
      "cell_type": "code",
      "execution_count": null,
      "metadata": {
        "id": "CNBj8OHjnZoD"
      },
      "outputs": [],
      "source": [
        "def signal_threshold(signal: float) -> bool:\n",
        "    pass"
      ]
    },
    {
      "attachments": {},
      "cell_type": "markdown",
      "metadata": {
        "id": "h5pibK0Gq0-C"
      },
      "source": [
        "`array_prod` (3 pts): The function takes two non-empty arrays of integers, multiplies each element of `lst1` with the corresponding element of `lst2` (by matching on the position in the array), and then sums all numbers. Mathematically, we can express this as:\n",
        "</br></br>\n",
        "\\begin{align}\n",
        "lst_1&=[a_1, a_2, ...] \\\\\n",
        "lst_2&=[b_1, b_2, ...] \\\\\n",
        "array\\_prod(lst_1, lst_2) &= a_1*b_1 + a_2*b_2 + ...\n",
        "\\end{align}\n",
        "</br>\n",
        "For those familiar with linear algebra/vectors, this operation is also called a dot product.\n",
        "\n",
        "**Note**: this function should return `None` if the two lists have different lengths. (Hence, the type hinting for the return value for the function is `Optional[int]` because it can return an `int` or `None` depending on the inputs). For future problems, edge cases may not be explicitly given so you should always consider reading the problem specification carefully to determine what edge cases a problem may have.\n",
        "\n",
        "**Hint**: There are multiple ways of completing this function. One way is to have an `if` statement to check for the lengths of the array, then using a `for` loop over both lists ranging over the length of the lists and using indices to access both lists to add to a counter outside the loop. Another (more succinct) way is to use list comprehension with the `sum` and `zip` functions."
      ]
    },
    {
      "cell_type": "code",
      "execution_count": null,
      "metadata": {
        "id": "3N9Kx7Igq12A"
      },
      "outputs": [],
      "source": [
        "def array_prod(lst1: List[int], lst2: List[int]) -> Optional[int]:\n",
        "    pass"
      ]
    },
    {
      "attachments": {},
      "cell_type": "markdown",
      "metadata": {
        "id": "tSpKbVHdq2aE"
      },
      "source": [
        "`collatz_steps` (4 pt). For some context, there's a famous (unproven) conjecture in number theory called *collatz conjecture*. The conjecture repeatedly applies the following rule to any number, `x`:</br>\n",
        "\\begin{align}\n",
        "\\text{If x is even, then do: } &\\frac{x}{2}\\\\\n",
        "\\text{If x is odd, then do: } &3x+1\n",
        "\\end{align}</br>\n",
        "The conjecture states that after enough iterations, `x` will go to one. The function `collatz_steps` takes a positive integer (e.g., greater than 0) and returns the number of steps needed for the number to arrive to 1 from applying the above rules (example cases: if `x=1`, then the function returns `0`; if `x=16`, then the function returns `4` because it will be `16->8->4->2->1`). For those more curious, here's an interesting [video](https://www.youtube.com/watch?v=094y1Z2wpJg) on the subject. **Hint**: use a `while` loop and the mod operator `%`."
      ]
    },
    {
      "cell_type": "code",
      "execution_count": null,
      "metadata": {
        "id": "VQzSh1Xgq27z"
      },
      "outputs": [],
      "source": [
        "def collatz_steps(x: int) -> int:\n",
        "    pass"
      ]
    },
    {
      "attachments": {},
      "cell_type": "markdown",
      "metadata": {
        "id": "5WK8cD3bC2JL"
      },
      "source": [
        "### Classes (12 pts)"
      ]
    },
    {
      "attachments": {},
      "cell_type": "markdown",
      "metadata": {
        "id": "j5Hb_v5BC8bB"
      },
      "source": [
        "In this section, you'll be building out two classes. For more context on classes, check out these articles:\n",
        "\n",
        "\n",
        "*   [What is Object Oriented Programming (OOP)?](https://medium.com/@nahmed3536/what-is-object-oriented-programming-oop-8cce77c33d7b)\n",
        "*   [A Python Example of Object Oriented Programming (OOP)](https://medium.com/@nahmed3536/a-python-example-of-object-oriented-programming-oop-6516c0ae2caf)\n",
        "*   [Python Objects and Classes](https://www.programiz.com/python-programming/class)\n",
        "\n"
      ]
    },
    {
      "attachments": {},
      "cell_type": "markdown",
      "metadata": {
        "id": "LKHUWVVvPS0p"
      },
      "source": [
        "`Animal` (6 pts): Build an `Animal` class. This class should be initialized with three attributes: `name`, `color`, and `age` which will be of type `str`, `str`, and `int` respectively. Additionally, create two methods named `generate_id` and `is_older_than`. The method `generate_id` will create an id by combining name, color, and weight with underscores (so for example, an animal with `name = 'Clifford'`, `color = 'red'`, and `age = 5`, it should generate the id `Clifford_red_5`). The method `is_older_than` will take in an input `age` and return `True` if the animal's age is greater than the input `age`."
      ]
    },
    {
      "cell_type": "code",
      "execution_count": null,
      "metadata": {
        "id": "3VC2_ut9BzJZ"
      },
      "outputs": [],
      "source": [
        "class Animal:\n",
        "    def __init__(self, name: str, color: str, age: int) -> None:\n",
        "        pass\n",
        "\n",
        "    def generate_id(self) -> str:\n",
        "        pass\n",
        "\n",
        "    def is_older_than(self, age: int) -> bool:\n",
        "        pass"
      ]
    },
    {
      "attachments": {},
      "cell_type": "markdown",
      "metadata": {
        "id": "YRZtnbaRVJlj"
      },
      "source": [
        "`Tiger` (6 pts): Build a `Tiger` class. This class should inherit from the `Animal` and adds a new attribute called `top_speed : int`. It also has a new method called `age_speed_ratio` that returns the ratio of age to top speed. For this problem, there intentionally is minimal scaffolding code. Refer to the above links to learn about class inheritance."
      ]
    },
    {
      "cell_type": "code",
      "execution_count": null,
      "metadata": {
        "id": "rt29japv8tqM"
      },
      "outputs": [],
      "source": [
        "class Tiger(Animal):\n",
        "    pass"
      ]
    },
    {
      "attachments": {},
      "cell_type": "markdown",
      "metadata": {
        "id": "D4y0mazkCBw5"
      },
      "source": [
        "## Math Exercises (15 pts)"
      ]
    },
    {
      "attachments": {},
      "cell_type": "markdown",
      "metadata": {
        "id": "t-F-bOOHIk7w"
      },
      "source": [
        "In this section, you'll explore some math concepts. (Note: the numbers used may not reflect real-world numbers / dynamics. Furthermore, the dynamics of the situation maybe simplified.)"
      ]
    },
    {
      "attachments": {},
      "cell_type": "markdown",
      "metadata": {
        "id": "0bQGkW2xZUMx"
      },
      "source": [
        "`number_of_RPM` (5 pts): The vertical speed for a rotor based drone is based on the number of Rotations Per Minute (RPM) that the propellers spin. In order to take-off or just stay stationary in the air, the propellers need to spin 20 RPM. After that, every additional 5 RPM that the propellers spin adds an extra 1 mile per hour in the vertical speed of the drone. What RPM should the drone propellers spin at to acheive a vertical speed of 5 miles per hour?\n",
        "\n",
        "**Hint**: Find the relationship between RPM and the vertical speed."
      ]
    },
    {
      "cell_type": "code",
      "execution_count": null,
      "metadata": {
        "cellView": "form",
        "id": "2LNF2tAIs8Ky"
      },
      "outputs": [],
      "source": [
        "#@title Number of RPMs\n",
        "number_of_RPM = None #@param {type:\"number\"}"
      ]
    },
    {
      "attachments": {},
      "cell_type": "markdown",
      "metadata": {
        "id": "9ZrXl_IOiL4T"
      },
      "source": [
        "`best_RPM` (5 pts). The amount of energy used by the drone is a function of the RPM on the propellers. When the RPM is too low, there's additional drag and resistance the propellers need to overcome since they lack the momentum of the spin, thus more energy is needed. When the RPM is too high, the propellers demand more energy to spin faster. Thus, there's some optimal amount of spin / RPM where the energy needed is minimal. From collecting empirical data on energy usage and propeller RPM, you have determined the function between energy use and RPM is:\n",
        "$$\n",
        "e = 0.5r^2-35r+625\n",
        "$$\n",
        "where $e$ is amount of energy being used and $r$ is the RPM of the propellers. What value of $r$ should we use to minimize the amount of energy being used?\n",
        "\n",
        "**Hint**: There are multiple ways of doing this problem. One way is by graphing, [another is using the properties of a parabola](https://www.onlinemath4all.com/how-to-find-the-minimum-or-maximum-value-of-a-function-in-vertex-form.html), or using the derivative."
      ]
    },
    {
      "cell_type": "code",
      "execution_count": null,
      "metadata": {
        "cellView": "form",
        "id": "167sX9EvtEin"
      },
      "outputs": [],
      "source": [
        "#@title Best RPM\n",
        "best_RPM = None #@param {type:\"number\"}"
      ]
    },
    {
      "attachments": {},
      "cell_type": "markdown",
      "metadata": {
        "id": "VWrDvfbPmcF3"
      },
      "source": [
        "`closest_point` (5 pts). You have a robot navigating to various points in the room. You model the room as a coordinate plane with the robot at position $S$ at $(4, 6)$. It has to navigate to one of the charge points in the room, which are located at:\n",
        "- A: (8, -2)\n",
        "- B: (10, 1)\n",
        "- C: (-3, 3)\n",
        "- D: (3, -8)\n",
        "- E: (-2, 9)\n",
        "- F: (-1, -2)\n",
        "\n",
        "![](https://drive.google.com/uc?export=view&id=1zqvH0k5LfgxHAL0UyY6rJWz3dkqBca8c)\n",
        "\n",
        "Which point should the robot go to if it wants to travel the least amount of distance? Assume the robot can navigate in the most efficient manner which is going in a straight line from its current position at $S$ to the nearest charging position. Your answer should be a capital string corresponding to one of the points above (so `\"A\"`, `\"B\"`, `\"C\"`, `\"D\"`, `\"E\"`, or `\"F\"`)\n",
        "\n",
        "<graphic>\n",
        "\n",
        "**Hint**: From geometry, the straight line distance between two points, $(x_1, y_1)$ and $(x_2, y_2)$ is $\\sqrt{(x_2-x_1)^2 + (y_2-y_1)^2}$"
      ]
    },
    {
      "cell_type": "code",
      "execution_count": null,
      "metadata": {
        "cellView": "form",
        "id": "cC6VG65DduTh"
      },
      "outputs": [],
      "source": [
        "#@title Closest Object\n",
        "closest_object = \"\" #@param [\"\", \"A\", \"B\", \"C\", \"D\", \"E\", \"F\"]"
      ]
    },
    {
      "attachments": {},
      "cell_type": "markdown",
      "metadata": {
        "id": "ibimRohVQwcr"
      },
      "source": [
        "## Linear Algebra (9 pts)"
      ]
    },
    {
      "attachments": {},
      "cell_type": "markdown",
      "metadata": {
        "id": "n4dnRVXhQ0_i"
      },
      "source": [
        "In this section, you'll explore some linear algebra concepts."
      ]
    },
    {
      "attachments": {},
      "cell_type": "markdown",
      "metadata": {
        "id": "e2nt_osKd-L_"
      },
      "source": [
        "Given\n",
        "\n",
        "\\begin{align}\n",
        "A = \\begin{bmatrix}\n",
        "1 & 5  \\\\\n",
        "3 & 2  \\\\\n",
        "6 & 8\n",
        "\\end{bmatrix},\n",
        "B = \\begin{bmatrix}\n",
        "2 & 8 \\\\\n",
        "6 & 4 \\\\\n",
        "\\end{bmatrix},\n",
        "v = \\begin{bmatrix}\n",
        "2 \\\\\n",
        "5 \\\\\n",
        "\\end{bmatrix}\n",
        "\\end{align}\n",
        "\n",
        "Determine / calculate:\n",
        "- `Av` (3 pts): $Av$\n",
        "- `AB` (3 pts): $AB$\n",
        "- `ABv` (3 pts): $ABv$\n",
        "\n",
        "Your answer for each should be a list of lists. For reference, here's how we would express each of the above in Python as a list of lists:\n",
        "```\n",
        "A : List[List[float]] = [\n",
        "    [1, 5],\n",
        "    [3, 2],\n",
        "    [6, 8]\n",
        "]\n",
        "B : List[List[float]] = [\n",
        "    [2, 8],\n",
        "    [6, 4]\n",
        "]\n",
        "v : List[List[float]] = [\n",
        "    [2],\n",
        "    [5]\n",
        "]\n",
        "```\n",
        "For reference on how to do matrix / vector multiplication, please refer to these resources:\n",
        "- [How to Multiply Matrices](https://www.mathsisfun.com/algebra/matrix-multiplying.html)\n",
        "- [Matrix Multiplication Walkthrough Video](https://www.youtube.com/watch?v=zAjUyPe-4mI)\n",
        "- [Multiplying Matrices and Vectors](https://mathinsight.org/matrix_vector_multiplication)"
      ]
    },
    {
      "cell_type": "code",
      "execution_count": null,
      "metadata": {
        "id": "6RgMq7enmc2E"
      },
      "outputs": [],
      "source": [
        "Av : List[List[float]] = [\n",
        "\n",
        "]"
      ]
    },
    {
      "cell_type": "code",
      "execution_count": null,
      "metadata": {
        "id": "WXFZvDOxmke2"
      },
      "outputs": [],
      "source": [
        "AB : List[List[float]] = [\n",
        "\n",
        "]"
      ]
    },
    {
      "cell_type": "code",
      "execution_count": null,
      "metadata": {
        "id": "kLW1G8Qvml0B"
      },
      "outputs": [],
      "source": [
        "ABv : List[List[float]] = [\n",
        "\n",
        "]"
      ]
    },
    {
      "attachments": {},
      "cell_type": "markdown",
      "metadata": {
        "id": "VNUIkBRl1b-J"
      },
      "source": [
        "# Problem Set Survey (5 pts)"
      ]
    },
    {
      "attachments": {},
      "cell_type": "markdown",
      "metadata": {
        "id": "zWVI_Hb0L-o6"
      },
      "source": [
        "Please fill out the survey questions (the first five are each worth 1 point; the last one is optional).\n",
        "\n",
        "\n",
        "1.   `TIME` (1 pt): approximately how many hours did you spend on the problem set? Please use decimals to express partial hours (e.g., a value of `2.5` means two and half hours).\n",
        "2.   `DIFFICULTY` (1 pt): on a scale of 1-10, how difficult was this problem set with 1 being very easy and 10 being very hard?\n",
        "3.   `FAVORITE_PART` (1 pt): What was your favorite topic / learning from the unit (i.e., between the last pset and this pset)? This should contain at least 20 words.\n",
        "4.   `WENT_WELL` (1 pt): What went well? Describe what went well with the course so far (this can be about the lecture, assignments, and/or other course content). This should contain at least 20 words.\n",
        "5.   `CHALLENGING` (1 pt): What was challenging? Describe what was challenging or didn't go well with the course so far (this can be about the lecture, assignments, and/or other course content). This should contain at least 20 words.\n",
        "6.   `COMMENTARY` (0 pt): If there is anything else you'd like to share with course staff, please add it here. If not, no need to change / edit the default string.\n"
      ]
    },
    {
      "cell_type": "code",
      "execution_count": null,
      "metadata": {
        "cellView": "form",
        "id": "R9tHfF-sKMZg"
      },
      "outputs": [],
      "source": [
        "#@title Problem Set Survey Questions\n",
        "TIME = None #@param {type:\"number\"}\n",
        "\n",
        "DIFFICULTY = \"\" #@param [\"\", \"1\", \"2\", \"3\", \"4\", \"5\", \"6\", \"7\", \"8\", \"9\", \"10\"]\n",
        "\n",
        "FAVORITE_PART = \"\" #@param {type:\"string\"}\n",
        "\n",
        "WENT_WELL = \"\" #@param {type:\"string\"}\n",
        "\n",
        "CHALLENGING = \"\" #@param {type:\"string\"}\n",
        "\n",
        "COMMENTARY = \"\" #@param {type:\"string\"}"
      ]
    },
    {
      "attachments": {},
      "cell_type": "markdown",
      "metadata": {
        "id": "-xSnfJLV43zh"
      },
      "source": [
        "**<font color='red'>To submit, please download as a Python (.py) file and submit on Gradescope (navigate to File > Download > Download .py). Please use the correct file name and comment out any test / extraneous code to avoid any compile and parser issues </font>**"
      ]
    }
  ],
  "metadata": {
    "colab": {
      "include_colab_link": true,
      "provenance": []
    },
    "kernelspec": {
      "display_name": "Python 3",
      "name": "python3"
    },
    "language_info": {
      "codemirror_mode": {
        "name": "ipython",
        "version": 3
      },
      "file_extension": ".py",
      "mimetype": "text/x-python",
      "name": "python",
      "nbconvert_exporter": "python",
      "pygments_lexer": "ipython3",
      "version": "3.9.6"
    }
  },
  "nbformat": 4,
  "nbformat_minor": 0
}
